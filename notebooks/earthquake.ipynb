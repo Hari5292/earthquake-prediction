{
 "cells": [
  {
   "cell_type": "code",
   "execution_count": 6,
   "metadata": {},
   "outputs": [],
   "source": [
    "%reload_ext autoreload\n",
    "%autoreload 2\n",
    "%matplotlib inline\n",
    "\n",
    "import sys\n",
    "sys.path.append('..')\n",
    "\n",
    "from src.earthquake import utils\n",
    "import config"
   ]
  },
  {
   "cell_type": "code",
   "execution_count": 7,
   "metadata": {},
   "outputs": [],
   "source": [
    "data = utils.read_csv(config.path_to_train)"
   ]
  },
  {
   "cell_type": "code",
   "execution_count": 8,
   "metadata": {},
   "outputs": [],
   "source": [
    "features = [column for column in data.columns if column not in ['target', 'seg_id']]"
   ]
  },
  {
   "cell_type": "code",
   "execution_count": 21,
   "metadata": {},
   "outputs": [
    {
     "name": "stderr",
     "output_type": "stream",
     "text": [
      "  Imp | Feature\n",
      " 0.11 | mfcc_5_avg\n",
      " 0.09 | mfcc_15_avg\n",
      " 0.07 | percentile_roll_std_5_window_50\n",
      " 0.06 | percentile_roll_std_10_window_100\n",
      " 0.06 | mfcc_4_avg\n",
      " 0.03 | percentile_roll_std_20_window_500\n",
      " 0.03 | percentile_roll_std_25_window_500\n",
      " 0.02 | percentile_roll_std_25_window_100\n",
      " 0.02 | percentile_roll_std_20_window_1000\n",
      " 0.02 | percentile_roll_std_20_window_10\n",
      " 0.02 | percentile_roll_std_25_window_1000\n",
      " 0.01 | percentile_roll_std_10_window_500\n",
      " 0.01 | percentile_roll_std_10_window_50\n",
      " 0.01 | percentile_roll_std_50_window_50\n",
      " 0.01 | percentile_roll_std_40_window_1000\n"
     ]
    }
   ],
   "source": [
    "utils.feature_importance(data[features], data['target'], n_best=15, n_jobs=4)"
   ]
  },
  {
   "cell_type": "code",
   "execution_count": null,
   "metadata": {},
   "outputs": [],
   "source": []
  }
 ],
 "metadata": {
  "kernelspec": {
   "display_name": "Python 3",
   "language": "python",
   "name": "python3"
  },
  "language_info": {
   "codemirror_mode": {
    "name": "ipython",
    "version": 3
   },
   "file_extension": ".py",
   "mimetype": "text/x-python",
   "name": "python",
   "nbconvert_exporter": "python",
   "pygments_lexer": "ipython3",
   "version": "3.7.3"
  }
 },
 "nbformat": 4,
 "nbformat_minor": 2
}
